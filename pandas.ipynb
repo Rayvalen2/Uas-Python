{
 "cells": [
  {
   "cell_type": "code",
   "execution_count": 15,
   "metadata": {},
   "outputs": [],
   "source": [
    "import pandas as pd\n",
    "import matplotlib.pyplot as plt\n",
    "\n",
    "df = pd.read_csv('supermarket_sales.csv')"
   ]
  },
  {
   "cell_type": "code",
   "execution_count": 16,
   "metadata": {},
   "outputs": [
    {
     "name": "stdout",
     "output_type": "stream",
     "text": [
      "menampilkan semua data\n",
      "    Invoice ID Branch       City Customer type  Gender  \\\n",
      "0  750-67-8428      A     Yangon        Member  Female   \n",
      "1  226-31-3081      C  Naypyitaw        Normal  Female   \n",
      "2  631-41-3108      A     Yangon        Normal    Male   \n",
      "3  123-19-1176      A     Yangon        Member    Male   \n",
      "4  373-73-7910      A     Yangon        Normal    Male   \n",
      "5  699-14-3026      C  Naypyitaw        Normal    Male   \n",
      "6  355-53-5943      A     Yangon        Member  Female   \n",
      "7  315-22-5665      C  Naypyitaw        Normal  Female   \n",
      "8  665-32-9167      A     Yangon        Member  Female   \n",
      "9  692-92-5582      B   Mandalay        Member  Female   \n",
      "\n",
      "             Product line  Unit price  Quantity   Tax 5%     Total       Date  \\\n",
      "0       Health and beauty       74.69         7  26.1415  548.9715   1/5/2019   \n",
      "1  Electronic accessories       15.28         5   3.8200   80.2200   3/8/2019   \n",
      "2      Home and lifestyle       46.33         7  16.2155  340.5255   3/3/2019   \n",
      "3       Health and beauty       58.22         8  23.2880  489.0480  1/27/2019   \n",
      "4       Sports and travel       86.31         7  30.2085  634.3785   2/8/2019   \n",
      "5  Electronic accessories       85.39         7  29.8865  627.6165  3/25/2019   \n",
      "6  Electronic accessories       68.84         6  20.6520  433.6920  2/25/2019   \n",
      "7      Home and lifestyle       73.56        10  36.7800  772.3800  2/24/2019   \n",
      "8       Health and beauty       36.26         2   3.6260   76.1460  1/10/2019   \n",
      "9      Food and beverages       54.84         3   8.2260  172.7460  2/20/2019   \n",
      "\n",
      "    Time      Payment    cogs  gross margin percentage  gross income  Rating  \n",
      "0  13:08      Ewallet  522.83                 4.761905       26.1415     9.1  \n",
      "1  10:29         Cash   76.40                 4.761905        3.8200     9.6  \n",
      "2  13:23  Credit card  324.31                 4.761905       16.2155     7.4  \n",
      "3  20:33      Ewallet  465.76                 4.761905       23.2880     8.4  \n",
      "4  10:37      Ewallet  604.17                 4.761905       30.2085     5.3  \n",
      "5  18:30      Ewallet  597.73                 4.761905       29.8865     4.1  \n",
      "6  14:36      Ewallet  413.04                 4.761905       20.6520     5.8  \n",
      "7  11:38      Ewallet  735.60                 4.761905       36.7800     8.0  \n",
      "8  17:15  Credit card   72.52                 4.761905        3.6260     7.2  \n",
      "9  13:27  Credit card  164.52                 4.761905        8.2260     5.9  \n"
     ]
    }
   ],
   "source": [
    "print('menampilkan semua data')\n",
    "df = pd.read_csv('supermarket_sales.csv')\n",
    "print(df.head(10))\n"
   ]
  },
  {
   "cell_type": "code",
   "execution_count": 17,
   "metadata": {},
   "outputs": [
    {
     "name": "stdout",
     "output_type": "stream",
     "text": [
      "\n",
      "Menampilkan Daftar penjualan di kota Yangon\n",
      "\n",
      "      Invoice ID Branch    City Customer type  Gender            Product line  \\\n",
      "0    750-67-8428      A  Yangon        Member  Female       Health and beauty   \n",
      "689  305-03-2383      A  Yangon        Normal  Female      Food and beverages   \n",
      "687  648-83-1321      A  Yangon        Member    Male      Home and lifestyle   \n",
      "683  105-10-6182      A  Yangon        Member    Male     Fashion accessories   \n",
      "679  130-67-4723      A  Yangon        Member    Male      Food and beverages   \n",
      "677  274-05-5470      A  Yangon        Member  Female      Food and beverages   \n",
      "674  811-03-8790      A  Yangon        Normal  Female  Electronic accessories   \n",
      "670  588-47-8641      A  Yangon        Member    Male     Fashion accessories   \n",
      "665  518-17-2983      A  Yangon        Normal  Female     Fashion accessories   \n",
      "659  491-38-3499      A  Yangon        Member    Male     Fashion accessories   \n",
      "\n",
      "     Unit price  Quantity   Tax 5%     Total       Date   Time      Payment  \\\n",
      "0         74.69         7  26.1415  548.9715   1/5/2019  13:08      Ewallet   \n",
      "689       67.10         3  10.0650  211.3650  2/15/2019  10:36         Cash   \n",
      "687       63.56        10  31.7800  667.3800  1/16/2019  17:59         Cash   \n",
      "683       21.48         2   2.1480   45.1080  2/27/2019  12:22      Ewallet   \n",
      "679       48.50         6  14.5500  305.5500  1/11/2019  13:57      Ewallet   \n",
      "677       73.47         4  14.6940  308.5740  2/23/2019  18:30         Cash   \n",
      "674       45.48        10  22.7400  477.5400   3/1/2019  10:22  Credit card   \n",
      "670       56.04        10  28.0200  588.4200  1/14/2019  19:30      Ewallet   \n",
      "665       48.63         4   9.7260  204.2460   2/4/2019  15:44      Ewallet   \n",
      "659       55.45         1   2.7725   58.2225  2/26/2019  17:46  Credit card   \n",
      "\n",
      "       cogs  gross margin percentage  gross income  Rating  \n",
      "0    522.83                 4.761905       26.1415     9.1  \n",
      "689  201.30                 4.761905       10.0650     7.5  \n",
      "687  635.60                 4.761905       31.7800     4.3  \n",
      "683   42.96                 4.761905        2.1480     6.6  \n",
      "679  291.00                 4.761905       14.5500     9.4  \n",
      "677  293.88                 4.761905       14.6940     6.0  \n",
      "674  454.80                 4.761905       22.7400     4.8  \n",
      "670  560.40                 4.761905       28.0200     4.4  \n",
      "665  194.52                 4.761905        9.7260     7.6  \n",
      "659   55.45                 4.761905        2.7725     4.9  \n"
     ]
    }
   ],
   "source": [
    "# Ascending\n",
    "df[\"City\"] = df[\"City\"].astype(\"string\")\n",
    "daerah = df[df['City'] == 'Yangon']\n",
    "\n",
    "daerah = daerah.sort_values(by=['City'], ascending=True)\n",
    "print('\\nMenampilkan Daftar penjualan di kota Yangon\\n')\n",
    "print(daerah.head(10))"
   ]
  },
  {
   "cell_type": "code",
   "execution_count": 23,
   "metadata": {},
   "outputs": [
    {
     "name": "stdout",
     "output_type": "stream",
     "text": [
      "\n",
      "Kota dengan Gender \"Pria\" Terbanyak:\n",
      "     City Gender  Jumlah\n",
      "2  Yangon   Male     179\n",
      "\n",
      "Kota dengan Gender \"Pria\" Terkecil:\n",
      "        City Gender  Jumlah\n",
      "1  Naypyitaw   Male     150\n"
     ]
    }
   ],
   "source": [
    "hitung_City_jenis_kelamin = df[df['Gender'] == 'Male']\n",
    "hitung_City_jenis_kelamin = hitung_City_jenis_kelamin.groupby(['City', 'Gender']).size().reset_index(name='Jumlah')\n",
    "kota_terbanyak = hitung_City_jenis_kelamin.nlargest(1, 'Jumlah')\n",
    "kota_terkecil = hitung_City_jenis_kelamin.nsmallest(1, 'Jumlah')\n",
    "\n",
    "print('\\nKota dengan Gender \"Pria\" Terbanyak:')\n",
    "print(kota_terbanyak)\n",
    "\n",
    "print('\\nKota dengan Gender \"Pria\" Terkecil:')\n",
    "print(kota_terkecil)\n"
   ]
  },
  {
   "cell_type": "code",
   "execution_count": 20,
   "metadata": {},
   "outputs": [
    {
     "name": "stdout",
     "output_type": "stream",
     "text": [
      "\n",
      "Kota dengan Gender \"Wanita\" Terbanyak:\n",
      "        City  Gender  Jumlah\n",
      "1  Naypyitaw  Female     178\n",
      "\n",
      "Kota dengan Gender \"Wanita\" Terkecil:\n",
      "     City  Gender  Jumlah\n",
      "2  Yangon  Female     161\n"
     ]
    }
   ],
   "source": [
    "hitung_City_jenis_kelamin = df[df['Gender'] == 'Female']\n",
    "hitung_City_jenis_kelamin = hitung_City_jenis_kelamin.groupby(['City', 'Gender']).size().reset_index(name='Jumlah')\n",
    "kota_terbanyak = hitung_City_jenis_kelamin.nlargest(1, 'Jumlah')\n",
    "kota_terkecil = hitung_City_jenis_kelamin.nsmallest(1, 'Jumlah')\n",
    "print('\\nKota dengan Gender \"Wanita\" Terbanyak:')\n",
    "print(kota_terbanyak)\n",
    "\n",
    "print('\\nKota dengan Gender \"Wanita\" Terkecil:')\n",
    "print(kota_terkecil)\n"
   ]
  },
  {
   "cell_type": "code",
   "execution_count": 21,
   "metadata": {},
   "outputs": [
    {
     "name": "stdout",
     "output_type": "stream",
     "text": [
      "\n",
      "Jenis Produk Terkecil Berdasarkan Kota:\n",
      "         City         Product line  Jumlah\n",
      "1    Mandalay  Fashion accessories      62\n",
      "5    Mandalay    Sports and travel      62\n",
      "8   Naypyitaw   Food and beverages      66\n",
      "16     Yangon   Home and lifestyle      65\n",
      "\n",
      "Jenis Produk Terbanyak Berdasarkan Kota:\n",
      "         City        Product line  Jumlah\n",
      "2    Mandalay  Food and beverages      50\n",
      "4    Mandalay  Home and lifestyle      50\n",
      "10  Naypyitaw  Home and lifestyle      45\n",
      "11  Naypyitaw   Sports and travel      45\n",
      "15     Yangon   Health and beauty      47\n"
     ]
    }
   ],
   "source": [
    "# Kelompokkan data berdasarkan 'City' dan 'Product line', lalu hitung jumlahnya\n",
    "hitung_kota_produk = df.groupby(['City', 'Product line']).size().reset_index(name='Jumlah')\n",
    "\n",
    "# Temukan jumlah maksimum dan minimum untuk setiap kota\n",
    "jumlah_maksimum = hitung_kota_produk.groupby('City')['Jumlah'].max()\n",
    "jumlah_minimum = hitung_kota_produk.groupby('City')['Jumlah'].min()\n",
    "\n",
    "# Filter baris dengan jumlah maksimum dan minimum untuk setiap kota\n",
    "produk_terbanyak = hitung_kota_produk[hitung_kota_produk.apply(lambda baris: baris['Jumlah'] == jumlah_maksimum[baris['City']], axis=1)]\n",
    "produk_terkecil = hitung_kota_produk[hitung_kota_produk.apply(lambda baris: baris['Jumlah'] == jumlah_minimum[baris['City']], axis=1)]\n",
    "\n",
    "print('\\nJenis Produk Terkecil Berdasarkan Kota:')\n",
    "print(produk_terbanyak)\n",
    "\n",
    "print('\\nJenis Produk Terbanyak Berdasarkan Kota:')\n",
    "print(produk_terkecil)\n"
   ]
  }
 ],
 "metadata": {
  "kernelspec": {
   "display_name": "Python 3",
   "language": "python",
   "name": "python3"
  },
  "language_info": {
   "codemirror_mode": {
    "name": "ipython",
    "version": 3
   },
   "file_extension": ".py",
   "mimetype": "text/x-python",
   "name": "python",
   "nbconvert_exporter": "python",
   "pygments_lexer": "ipython3",
   "version": "3.11.5"
  }
 },
 "nbformat": 4,
 "nbformat_minor": 2
}
