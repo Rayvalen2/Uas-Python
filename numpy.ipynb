{
 "cells": [
  {
   "cell_type": "code",
   "execution_count": 9,
   "metadata": {},
   "outputs": [],
   "source": [
    "import pandas as pd\n",
    "import numpy as np\n",
    "\n",
    "df = pd.read_csv('supermarket_sales.csv')\n",
    "n = 10"
   ]
  },
  {
   "cell_type": "code",
   "execution_count": 10,
   "metadata": {},
   "outputs": [
    {
     "name": "stdout",
     "output_type": "stream",
     "text": [
      "\n",
      "Operasi Aritmatika menggunakan Data Unit Price dan Quantity di Seluruh DataFrame (10 Data Pertama)\n",
      "\n",
      "Penjumlahan\n",
      "[81.69 20.28 53.33 66.22 93.31 92.39 74.84 83.56 38.26 57.84]\n",
      "\n",
      "Pengurangan\n",
      "[67.69 10.28 39.33 50.22 79.31 78.39 62.84 63.56 34.26 51.84]\n",
      "\n",
      "Perkalian\n",
      "[522.83  76.4  324.31 465.76 604.17 597.73 413.04 735.6   72.52 164.52]\n",
      "\n",
      "Pembagian\n",
      "[10.67        3.056       6.61857143  7.2775     12.33       12.19857143\n",
      " 11.47333333  7.356      18.13       18.28      ]\n"
     ]
    }
   ],
   "source": [
    "# Mengasumsikan 'City' adalah kolom yang benar\n",
    "df[\"City\"] = df[\"City\"].astype(\"string\")\n",
    "\n",
    "# Mengambil data Unit Price dan Quantity dari DataFrame ke dalam np.array\n",
    "unit_price = df['Unit price'].to_numpy()\n",
    "quantity = df['Quantity'].to_numpy()\n",
    "\n",
    "# Melakukan operasi penjumlahan, pengurangan, perkalian, dan pembagian dengan np.array\n",
    "penjumlahan = unit_price + quantity\n",
    "pengurangan = unit_price - quantity\n",
    "perkalian = unit_price * quantity\n",
    "\n",
    "# Pastikan tidak ada pembagian oleh nol\n",
    "pembagian = np.divide(unit_price, quantity, out=np.zeros_like(unit_price), where=quantity!=0)\n",
    "\n",
    "print(\"\\nOperasi Aritmatika menggunakan Data Unit Price dan Quantity di Seluruh DataFrame (10 Data Pertama)\")\n",
    "print(\"\\nPenjumlahan\")\n",
    "print(penjumlahan[:n])\n",
    "print(\"\\nPengurangan\")\n",
    "print(pengurangan[:n])\n",
    "print(\"\\nPerkalian\")\n",
    "print(perkalian[:n])\n",
    "print(\"\\nPembagian\")\n",
    "print(pembagian[:n])"
   ]
  },
  {
   "cell_type": "code",
   "execution_count": 11,
   "metadata": {},
   "outputs": [
    {
     "name": "stdout",
     "output_type": "stream",
     "text": [
      "\n",
      "Transpose dari Data Unit Price \n",
      "[[74]\n",
      " [15]\n",
      " [46]\n",
      " [58]\n",
      " [86]\n",
      " [85]\n",
      " [68]\n",
      " [73]\n",
      " [36]\n",
      " [54]]\n",
      "\n",
      "Transpose dari Data Quantity \n",
      "[[ 7]\n",
      " [ 5]\n",
      " [ 7]\n",
      " [ 8]\n",
      " [ 7]\n",
      " [ 7]\n",
      " [ 6]\n",
      " [10]\n",
      " [ 2]\n",
      " [ 3]]\n",
      "\n",
      "Reshape dari Data Unit Price \n",
      "[[74]\n",
      " [15]\n",
      " [46]\n",
      " [58]\n",
      " [86]\n",
      " [85]\n",
      " [68]\n",
      " [73]\n",
      " [36]\n",
      " [54]]\n",
      "Reshape dari Data Quantity \n",
      "[[ 7]\n",
      " [ 5]\n",
      " [ 7]\n",
      " [ 8]\n",
      " [ 7]\n",
      " [ 7]\n",
      " [ 6]\n",
      " [10]\n",
      " [ 2]\n",
      " [ 3]]\n",
      "\n",
      "Flatten dari Data Unit Price \n",
      "[74 15 46 58 86 85 68 73 36 54]\n",
      "\n",
      "Flatten dari Data Quantity \n",
      "[ 7  5  7  8  7  7  6 10  2  3]\n"
     ]
    }
   ],
   "source": [
    "# Hasil data matrix array hanya 1 dimensi\n",
    "\n",
    "tup = unit_price.reshape(-1, 1).astype(int)\n",
    "tq = quantity.reshape(-1, 1).astype(int)\n",
    "print(\"\\nTranspose dari Data Unit Price \")\n",
    "print(tup[:n])\n",
    "print(\"\\nTranspose dari Data Quantity \")\n",
    "print(tq[:n])\n",
    "\n",
    "rsup = unit_price.reshape(-1, 1).astype(int)\n",
    "rsq = quantity.reshape(-1, 1).astype(int)\n",
    "print(\"\\nReshape dari Data Unit Price \")\n",
    "print(rsup[:n])\n",
    "print(\"Reshape dari Data Quantity \")\n",
    "print(rsq[:n])\n",
    "\n",
    "fup = unit_price.flatten().astype(int)\n",
    "fq = quantity.flatten().astype(int)\n",
    "print(\"\\nFlatten dari Data Unit Price \")\n",
    "print(fup[:n])\n",
    "print(\"\\nFlatten dari Data Quantity \")\n",
    "print(fq[:n])\n"
   ]
  },
  {
   "cell_type": "code",
   "execution_count": 12,
   "metadata": {},
   "outputs": [
    {
     "name": "stdout",
     "output_type": "stream",
     "text": [
      "\n",
      "Jumlah data unit price (10 data pertama)\n",
      "Nilai Minimal: 15.28\n",
      "Nilai Maksimal: 86.31\n",
      "Nilai Rata-rata: 59.972\n",
      "Total Nilai: 599.72\n",
      "Standar Deviasi: 21.435495235706593\n",
      "\n",
      "Jumlah data quantity (10 data pertama)\n",
      "Nilai Minimal: 2\n",
      "Nilai Maksimal: 10\n",
      "Nilai Rata-rata: 6.2\n",
      "Total Nilai: 62\n",
      "Standar Deviasi: 2.227105745132009\n"
     ]
    }
   ],
   "source": [
    "print(\"\\nJumlah data unit price (10 data pertama)\")\n",
    "print(\"Nilai Minimal:\", np.min(unit_price[:n]))\n",
    "print(\"Nilai Maksimal:\", np.max(unit_price[:n]))\n",
    "print(\"Nilai Rata-rata:\", np.mean(unit_price[:n]))\n",
    "print(\"Total Nilai:\", np.sum(unit_price[:n]))\n",
    "print(\"Standar Deviasi:\", np.std(unit_price[:n]))\n",
    "\n",
    "print(\"\\nJumlah data quantity (10 data pertama)\")\n",
    "print(\"Nilai Minimal:\", np.min(quantity[:n]))\n",
    "print(\"Nilai Maksimal:\", np.max(quantity[:n]))\n",
    "print(\"Nilai Rata-rata:\", np.mean(quantity[:n]))\n",
    "print(\"Total Nilai:\", np.sum(quantity[:n]))\n",
    "print(\"Standar Deviasi:\", np.std(quantity[:n]))"
   ]
  }
 ],
 "metadata": {
  "kernelspec": {
   "display_name": "Python 3",
   "language": "python",
   "name": "python3"
  },
  "language_info": {
   "codemirror_mode": {
    "name": "ipython",
    "version": 3
   },
   "file_extension": ".py",
   "mimetype": "text/x-python",
   "name": "python",
   "nbconvert_exporter": "python",
   "pygments_lexer": "ipython3",
   "version": "3.11.5"
  }
 },
 "nbformat": 4,
 "nbformat_minor": 2
}
